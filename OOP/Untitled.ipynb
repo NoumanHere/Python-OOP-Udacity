{
 "cells": [
  {
   "cell_type": "code",
   "execution_count": 1,
   "id": "df858145",
   "metadata": {},
   "outputs": [],
   "source": [
    "class Shirt:\n",
    "    def __init__(self,shirt_color, shirt_size, shirt_style, shirt_price):\n",
    "        self.color = shirt_color\n",
    "        self.size = shirt_size\n",
    "        self.style = shirt_style\n",
    "        self.price = shirt_price\n",
    "        \n",
    "    def change_price(self, new_price):\n",
    "        self.price = new_price\n",
    "        \n",
    "    def discount(self, discount):\n",
    "        return self.price * (1 - discount)\n",
    "    \n",
    "    "
   ]
  },
  {
   "cell_type": "code",
   "execution_count": 3,
   "id": "0997182d",
   "metadata": {},
   "outputs": [
    {
     "data": {
      "text/plain": [
       "<__main__.Shirt at 0x7fe8cad67e50>"
      ]
     },
     "execution_count": 3,
     "metadata": {},
     "output_type": "execute_result"
    }
   ],
   "source": [
    "Shirt('red','S','short sleeve', 15)"
   ]
  },
  {
   "cell_type": "code",
   "execution_count": 5,
   "id": "fafdfb5a",
   "metadata": {},
   "outputs": [],
   "source": [
    "new_shirt = Shirt('red','S','short sleeve', 15)"
   ]
  },
  {
   "cell_type": "code",
   "execution_count": 9,
   "id": "d61d13a8",
   "metadata": {},
   "outputs": [
    {
     "name": "stdout",
     "output_type": "stream",
     "text": [
      "red\n",
      "S\n",
      "short sleeve\n",
      "10\n"
     ]
    }
   ],
   "source": [
    "print(new_shirt.color)\n",
    "print(new_shirt.size)\n",
    "print(new_shirt.style)\n",
    "print(new_shirt.price)\n"
   ]
  },
  {
   "cell_type": "code",
   "execution_count": 10,
   "id": "6fbf3b88",
   "metadata": {},
   "outputs": [],
   "source": [
    "new_shirt.change_price(10)\n"
   ]
  },
  {
   "cell_type": "code",
   "execution_count": 11,
   "id": "7e39ff8c",
   "metadata": {},
   "outputs": [
    {
     "name": "stdout",
     "output_type": "stream",
     "text": [
      "8.0\n"
     ]
    }
   ],
   "source": [
    "print(new_shirt.discount(0.2))"
   ]
  }
 ],
 "metadata": {
  "kernelspec": {
   "display_name": "Python 3",
   "language": "python",
   "name": "python3"
  },
  "language_info": {
   "codemirror_mode": {
    "name": "ipython",
    "version": 3
   },
   "file_extension": ".py",
   "mimetype": "text/x-python",
   "name": "python",
   "nbconvert_exporter": "python",
   "pygments_lexer": "ipython3",
   "version": "3.8.10"
  }
 },
 "nbformat": 4,
 "nbformat_minor": 5
}
