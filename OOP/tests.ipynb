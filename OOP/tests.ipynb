{
 "cells": [
  {
   "cell_type": "code",
   "execution_count": null,
   "id": "10382d39",
   "metadata": {},
   "outputs": [],
   "source": [
    "def run_tests(shirt_one, shirt_two, total_cost, total_discount):\n",
    " \n",
    "    # Unit tests to check your solution\n",
    "    assert shirt_one.price == 10, 'shirt_one price should be 10'\n",
    "    assert shirt_one.color == 'red', ' shirt_one should be red'\n",
    "    assert shirt_one.style == 'long-sleeve', 'shirt_one should be long_sleeve style'\n",
    "    assert shirt_one.size == 'S', 'shirt_one size should be S'\n",
    "\n",
    "    assert shirt_two.price == 10, 'shirt_two price should be 10'\n",
    "    assert shirt_two.color == 'orange', 'shirt_two should be orange'\n",
    "    assert shirt_two.style == 'short-sleeve', 'shirt_two should be short_sleeve style'\n",
    "    assert shirt_two.size == 'L', 'shirt_two size should be L'\n",
    "\n",
    "    assert total_cost == 20, 'the total_cost of both shirts should be 20'\n",
    "    \n",
    "    assert round(total_discount) == 18, 'total_discount should be 18.0'"
   ]
  }
 ],
 "metadata": {
  "kernelspec": {
   "display_name": "Python 3",
   "language": "python",
   "name": "python3"
  },
  "language_info": {
   "codemirror_mode": {
    "name": "ipython",
    "version": 3
   },
   "file_extension": ".py",
   "mimetype": "text/x-python",
   "name": "python",
   "nbconvert_exporter": "python",
   "pygments_lexer": "ipython3",
   "version": "3.8.10"
  }
 },
 "nbformat": 4,
 "nbformat_minor": 5
}
