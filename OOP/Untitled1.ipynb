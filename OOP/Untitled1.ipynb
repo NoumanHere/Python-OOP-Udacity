{
 "cells": [
  {
   "cell_type": "code",
   "execution_count": 2,
   "id": "c119d0c1",
   "metadata": {},
   "outputs": [],
   "source": [
    "class Clothing:\n",
    "    \n",
    "    def __init__(self, color, size, style, price):\n",
    "        self.color = color\n",
    "        self.size = size\n",
    "        self.style = style \n",
    "        self.price = price\n",
    "        \n",
    "    def change_price(self, new_price):\n",
    "        self.price = new_price\n",
    "        \n",
    "    def calculate_discount(self, discount):\n",
    "        \n",
    "        return self.price * (1 - discount)"
   ]
  },
  {
   "cell_type": "code",
   "execution_count": 12,
   "id": "c7bb67a2",
   "metadata": {},
   "outputs": [],
   "source": [
    "class Shirt(Clothing):\n",
    "    \n",
    "    def __init__(self, color, size, style, price, long_or_short):\n",
    "        \n",
    "        Clothing.__init__(self, color, size, style, price)\n",
    "        self.long_or_short = long_or_short\n",
    "            \n",
    "    def double_price(self):\n",
    "        self.price = 2 * self.price\n",
    "\n",
    "\n",
    "class Pants(Clothing):\n",
    "    \n",
    "    def __init__(self, color, size, style, price, long_or_short, waist):\n",
    "        \n",
    "        Clothing.__init__(self, color, size, style, price)\n",
    "        self.waist = waist\n",
    "        \n",
    "    def calculate_discount(self, discount):\n",
    "        \n",
    "        return self.price * (1 - discount)\n",
    "\n",
    "\n",
    "        "
   ]
  }
 ],
 "metadata": {
  "kernelspec": {
   "display_name": "Python 3",
   "language": "python",
   "name": "python3"
  },
  "language_info": {
   "codemirror_mode": {
    "name": "ipython",
    "version": 3
   },
   "file_extension": ".py",
   "mimetype": "text/x-python",
   "name": "python",
   "nbconvert_exporter": "python",
   "pygments_lexer": "ipython3",
   "version": "3.8.10"
  }
 },
 "nbformat": 4,
 "nbformat_minor": 5
}
